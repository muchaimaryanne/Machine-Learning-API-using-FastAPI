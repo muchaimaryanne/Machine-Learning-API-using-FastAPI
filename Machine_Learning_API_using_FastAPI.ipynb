{
  "nbformat": 4,
  "nbformat_minor": 0,
  "metadata": {
    "colab": {
      "provenance": [],
      "toc_visible": true,
      "authorship_tag": "ABX9TyO0XAcNDRgAbwN2XRgg6K/m",
      "include_colab_link": true
    },
    "kernelspec": {
      "name": "python3",
      "display_name": "Python 3"
    },
    "language_info": {
      "name": "python"
    }
  },
  "cells": [
    {
      "cell_type": "markdown",
      "metadata": {
        "id": "view-in-github",
        "colab_type": "text"
      },
      "source": [
        "<a href=\"https://colab.research.google.com/github/muchaimaryanne/Machine-Learning-API-using-FastAPI/blob/main/Machine_Learning_API_using_FastAPI.ipynb\" target=\"_parent\"><img src=\"https://colab.research.google.com/assets/colab-badge.svg\" alt=\"Open In Colab\"/></a>"
      ]
    },
    {
      "cell_type": "markdown",
      "source": [
        "# **Introduction**"
      ],
      "metadata": {
        "id": "66Ta0PqUG-3i"
      }
    },
    {
      "cell_type": "markdown",
      "source": [
        "\n",
        "\n",
        "In this project, we aim to create an API that can be requested to interact with a ML model. This is an interesting solution when you want to keep your model architecture secret or to make your model available to users already having an API. By creating an API, and deploying it, your model can so that receive request using the internet protocol as presented by the illustration below.\n",
        "\n",
        "Sepsis is an infection of the blood stream resulting in a cluster of symptoms such as drop in a blood pressure, increase in heart rate and fever.\n",
        "\n",
        "The model that we will build will be able to determine the prescence or abscence of Sepsis.\n",
        "\n",
        "\n"
      ],
      "metadata": {
        "id": "DXdwYnHrF24c"
      }
    },
    {
      "cell_type": "markdown",
      "source": [
        "# Importation\n",
        "Here is the section to import all the packages/libraries that will be used through this notebook."
      ],
      "metadata": {
        "id": "1AxDjAG4HE_l"
      }
    },
    {
      "cell_type": "code",
      "execution_count": 1,
      "metadata": {
        "id": "sBPKaV1JFTo4"
      },
      "outputs": [],
      "source": [
        "# Data handling\n",
        "import pandas as pd\n",
        "import numpy as np\n",
        "\n",
        "# Vizualisation (Matplotlib, Plotly, Seaborn, etc. )\n",
        "# Machine learning libraries and metrics\n",
        "# Feature Processing (Scikit-learn processing, etc. )\n",
        "# Other packages\n",
        "\n"
      ]
    },
    {
      "cell_type": "markdown",
      "source": [
        "# Data Loading\n",
        "\n",
        "Here is the section to load the datasets (train, eval, test) and the additional files"
      ],
      "metadata": {
        "id": "cIFdJHMbHll0"
      }
    },
    {
      "cell_type": "code",
      "source": [
        "url = 'https://drive.google.com/file/d/1D_0MXHhkZKdbU38V9hbRRCPMwVI-_0ZZ/view?usp=drive_link'\n",
        "url='https://drive.google.com/uc?id=' + url.split('/')[-2]"
      ],
      "metadata": {
        "id": "gaX7HPR1IJSh"
      },
      "execution_count": 2,
      "outputs": []
    },
    {
      "cell_type": "code",
      "source": [
        "# Data loading\n",
        "sepsis_train_df = pd.read_csv(url)"
      ],
      "metadata": {
        "id": "GhSVvpBFISiY"
      },
      "execution_count": 3,
      "outputs": []
    },
    {
      "cell_type": "markdown",
      "source": [
        "Description of the data columns.\n",
        "\n",
        "| Column Name | Attribute/Target | Description |\n",
        "|----------|----------|----------|\n",
        "| ID   | N/A   | Unique number to represent patient ID   |\n",
        "| PRG   | Attribute1\t   | Plasma glucose   |\n",
        "|PL\t|Attribute 2\t|Blood Work Result-1 (mu U/ml)|\n",
        "|PR\t|Attribute 3\t|Blood Pressure (mm Hg)|\n",
        "|SK\t|Attribute 4\t|Blood Work Result-2 (mm)|\n",
        "|TS\t|Attribute 5\t|Blood Work Result-3 (mu U/ml)|\n",
        "|M11|\tAttribute 6\t|Body mass index (weight in kg/(height in m)^2|\n"
      ],
      "metadata": {
        "id": "-oAzpAewLF5G"
      }
    },
    {
      "cell_type": "markdown",
      "source": [
        "# Hypothesis\n",
        "\n",
        "In this section we stated our null and alternate hypothesis as well as the questions that we seek to answer."
      ],
      "metadata": {
        "id": "b1PyNDZxIpd3"
      }
    },
    {
      "cell_type": "markdown",
      "source": [
        "**Null Hypothesis:** \n",
        "\n",
        "**Alternate Hypothesis:** "
      ],
      "metadata": {
        "id": "AECI90vDIyr6"
      }
    },
    {
      "cell_type": "markdown",
      "source": [
        "**Questions**"
      ],
      "metadata": {
        "id": "vN_DIXCxJCL8"
      }
    },
    {
      "cell_type": "markdown",
      "source": [
        "# Exploratory Data Analysis: EDA\n",
        "Here is the section to inspect the datasets in depth, present it, make hypotheses and think the cleaning, processing and features creation."
      ],
      "metadata": {
        "id": "0ZoSICO3JHoG"
      }
    },
    {
      "cell_type": "code",
      "source": [
        "sepsis_train_df.shape"
      ],
      "metadata": {
        "colab": {
          "base_uri": "https://localhost:8080/"
        },
        "id": "cpjQ3Uo2Iv2H",
        "outputId": "d4d76eac-379e-4105-dbf6-9573c47a385b"
      },
      "execution_count": 5,
      "outputs": [
        {
          "output_type": "execute_result",
          "data": {
            "text/plain": [
              "(599, 11)"
            ]
          },
          "metadata": {},
          "execution_count": 5
        }
      ]
    },
    {
      "cell_type": "markdown",
      "source": [
        "The data has 599 rows and 11 columns"
      ],
      "metadata": {
        "id": "q7mxT1sxJ-NM"
      }
    },
    {
      "cell_type": "code",
      "source": [
        "sepsis_train_df.head()"
      ],
      "metadata": {
        "colab": {
          "base_uri": "https://localhost:8080/",
          "height": 206
        },
        "id": "ZYxAeTP3IagW",
        "outputId": "54cbee8d-f1d5-4d27-dc14-56ae5834456d"
      },
      "execution_count": 4,
      "outputs": [
        {
          "output_type": "execute_result",
          "data": {
            "text/plain": [
              "          ID  PRG   PL  PR  SK   TS   M11    BD2  Age  Insurance   Sepssis\n",
              "0  ICU200010    6  148  72  35    0  33.6  0.627   50          0  Positive\n",
              "1  ICU200011    1   85  66  29    0  26.6  0.351   31          0  Negative\n",
              "2  ICU200012    8  183  64   0    0  23.3  0.672   32          1  Positive\n",
              "3  ICU200013    1   89  66  23   94  28.1  0.167   21          1  Negative\n",
              "4  ICU200014    0  137  40  35  168  43.1  2.288   33          1  Positive"
            ],
            "text/html": [
              "\n",
              "  <div id=\"df-5dbe3e09-8554-4151-9d6d-e089260bf2b2\">\n",
              "    <div class=\"colab-df-container\">\n",
              "      <div>\n",
              "<style scoped>\n",
              "    .dataframe tbody tr th:only-of-type {\n",
              "        vertical-align: middle;\n",
              "    }\n",
              "\n",
              "    .dataframe tbody tr th {\n",
              "        vertical-align: top;\n",
              "    }\n",
              "\n",
              "    .dataframe thead th {\n",
              "        text-align: right;\n",
              "    }\n",
              "</style>\n",
              "<table border=\"1\" class=\"dataframe\">\n",
              "  <thead>\n",
              "    <tr style=\"text-align: right;\">\n",
              "      <th></th>\n",
              "      <th>ID</th>\n",
              "      <th>PRG</th>\n",
              "      <th>PL</th>\n",
              "      <th>PR</th>\n",
              "      <th>SK</th>\n",
              "      <th>TS</th>\n",
              "      <th>M11</th>\n",
              "      <th>BD2</th>\n",
              "      <th>Age</th>\n",
              "      <th>Insurance</th>\n",
              "      <th>Sepssis</th>\n",
              "    </tr>\n",
              "  </thead>\n",
              "  <tbody>\n",
              "    <tr>\n",
              "      <th>0</th>\n",
              "      <td>ICU200010</td>\n",
              "      <td>6</td>\n",
              "      <td>148</td>\n",
              "      <td>72</td>\n",
              "      <td>35</td>\n",
              "      <td>0</td>\n",
              "      <td>33.6</td>\n",
              "      <td>0.627</td>\n",
              "      <td>50</td>\n",
              "      <td>0</td>\n",
              "      <td>Positive</td>\n",
              "    </tr>\n",
              "    <tr>\n",
              "      <th>1</th>\n",
              "      <td>ICU200011</td>\n",
              "      <td>1</td>\n",
              "      <td>85</td>\n",
              "      <td>66</td>\n",
              "      <td>29</td>\n",
              "      <td>0</td>\n",
              "      <td>26.6</td>\n",
              "      <td>0.351</td>\n",
              "      <td>31</td>\n",
              "      <td>0</td>\n",
              "      <td>Negative</td>\n",
              "    </tr>\n",
              "    <tr>\n",
              "      <th>2</th>\n",
              "      <td>ICU200012</td>\n",
              "      <td>8</td>\n",
              "      <td>183</td>\n",
              "      <td>64</td>\n",
              "      <td>0</td>\n",
              "      <td>0</td>\n",
              "      <td>23.3</td>\n",
              "      <td>0.672</td>\n",
              "      <td>32</td>\n",
              "      <td>1</td>\n",
              "      <td>Positive</td>\n",
              "    </tr>\n",
              "    <tr>\n",
              "      <th>3</th>\n",
              "      <td>ICU200013</td>\n",
              "      <td>1</td>\n",
              "      <td>89</td>\n",
              "      <td>66</td>\n",
              "      <td>23</td>\n",
              "      <td>94</td>\n",
              "      <td>28.1</td>\n",
              "      <td>0.167</td>\n",
              "      <td>21</td>\n",
              "      <td>1</td>\n",
              "      <td>Negative</td>\n",
              "    </tr>\n",
              "    <tr>\n",
              "      <th>4</th>\n",
              "      <td>ICU200014</td>\n",
              "      <td>0</td>\n",
              "      <td>137</td>\n",
              "      <td>40</td>\n",
              "      <td>35</td>\n",
              "      <td>168</td>\n",
              "      <td>43.1</td>\n",
              "      <td>2.288</td>\n",
              "      <td>33</td>\n",
              "      <td>1</td>\n",
              "      <td>Positive</td>\n",
              "    </tr>\n",
              "  </tbody>\n",
              "</table>\n",
              "</div>\n",
              "      <button class=\"colab-df-convert\" onclick=\"convertToInteractive('df-5dbe3e09-8554-4151-9d6d-e089260bf2b2')\"\n",
              "              title=\"Convert this dataframe to an interactive table.\"\n",
              "              style=\"display:none;\">\n",
              "        \n",
              "  <svg xmlns=\"http://www.w3.org/2000/svg\" height=\"24px\"viewBox=\"0 0 24 24\"\n",
              "       width=\"24px\">\n",
              "    <path d=\"M0 0h24v24H0V0z\" fill=\"none\"/>\n",
              "    <path d=\"M18.56 5.44l.94 2.06.94-2.06 2.06-.94-2.06-.94-.94-2.06-.94 2.06-2.06.94zm-11 1L8.5 8.5l.94-2.06 2.06-.94-2.06-.94L8.5 2.5l-.94 2.06-2.06.94zm10 10l.94 2.06.94-2.06 2.06-.94-2.06-.94-.94-2.06-.94 2.06-2.06.94z\"/><path d=\"M17.41 7.96l-1.37-1.37c-.4-.4-.92-.59-1.43-.59-.52 0-1.04.2-1.43.59L10.3 9.45l-7.72 7.72c-.78.78-.78 2.05 0 2.83L4 21.41c.39.39.9.59 1.41.59.51 0 1.02-.2 1.41-.59l7.78-7.78 2.81-2.81c.8-.78.8-2.07 0-2.86zM5.41 20L4 18.59l7.72-7.72 1.47 1.35L5.41 20z\"/>\n",
              "  </svg>\n",
              "      </button>\n",
              "      \n",
              "  <style>\n",
              "    .colab-df-container {\n",
              "      display:flex;\n",
              "      flex-wrap:wrap;\n",
              "      gap: 12px;\n",
              "    }\n",
              "\n",
              "    .colab-df-convert {\n",
              "      background-color: #E8F0FE;\n",
              "      border: none;\n",
              "      border-radius: 50%;\n",
              "      cursor: pointer;\n",
              "      display: none;\n",
              "      fill: #1967D2;\n",
              "      height: 32px;\n",
              "      padding: 0 0 0 0;\n",
              "      width: 32px;\n",
              "    }\n",
              "\n",
              "    .colab-df-convert:hover {\n",
              "      background-color: #E2EBFA;\n",
              "      box-shadow: 0px 1px 2px rgba(60, 64, 67, 0.3), 0px 1px 3px 1px rgba(60, 64, 67, 0.15);\n",
              "      fill: #174EA6;\n",
              "    }\n",
              "\n",
              "    [theme=dark] .colab-df-convert {\n",
              "      background-color: #3B4455;\n",
              "      fill: #D2E3FC;\n",
              "    }\n",
              "\n",
              "    [theme=dark] .colab-df-convert:hover {\n",
              "      background-color: #434B5C;\n",
              "      box-shadow: 0px 1px 3px 1px rgba(0, 0, 0, 0.15);\n",
              "      filter: drop-shadow(0px 1px 2px rgba(0, 0, 0, 0.3));\n",
              "      fill: #FFFFFF;\n",
              "    }\n",
              "  </style>\n",
              "\n",
              "      <script>\n",
              "        const buttonEl =\n",
              "          document.querySelector('#df-5dbe3e09-8554-4151-9d6d-e089260bf2b2 button.colab-df-convert');\n",
              "        buttonEl.style.display =\n",
              "          google.colab.kernel.accessAllowed ? 'block' : 'none';\n",
              "\n",
              "        async function convertToInteractive(key) {\n",
              "          const element = document.querySelector('#df-5dbe3e09-8554-4151-9d6d-e089260bf2b2');\n",
              "          const dataTable =\n",
              "            await google.colab.kernel.invokeFunction('convertToInteractive',\n",
              "                                                     [key], {});\n",
              "          if (!dataTable) return;\n",
              "\n",
              "          const docLinkHtml = 'Like what you see? Visit the ' +\n",
              "            '<a target=\"_blank\" href=https://colab.research.google.com/notebooks/data_table.ipynb>data table notebook</a>'\n",
              "            + ' to learn more about interactive tables.';\n",
              "          element.innerHTML = '';\n",
              "          dataTable['output_type'] = 'display_data';\n",
              "          await google.colab.output.renderOutput(dataTable, element);\n",
              "          const docLink = document.createElement('div');\n",
              "          docLink.innerHTML = docLinkHtml;\n",
              "          element.appendChild(docLink);\n",
              "        }\n",
              "      </script>\n",
              "    </div>\n",
              "  </div>\n",
              "  "
            ]
          },
          "metadata": {},
          "execution_count": 4
        }
      ]
    },
    {
      "cell_type": "code",
      "source": [
        "sepsis_train_df.tail()"
      ],
      "metadata": {
        "colab": {
          "base_uri": "https://localhost:8080/",
          "height": 206
        },
        "id": "dqmwzT-sKKkB",
        "outputId": "753def50-78c1-4f47-9ac1-55894bace30c"
      },
      "execution_count": 6,
      "outputs": [
        {
          "output_type": "execute_result",
          "data": {
            "text/plain": [
              "            ID  PRG   PL  PR  SK   TS   M11    BD2  Age  Insurance   Sepssis\n",
              "594  ICU200604    6  123  72  45  230  33.6  0.733   34          0  Negative\n",
              "595  ICU200605    0  188  82  14  185  32.0  0.682   22          1  Positive\n",
              "596  ICU200606    0   67  76   0    0  45.3  0.194   46          1  Negative\n",
              "597  ICU200607    1   89  24  19   25  27.8  0.559   21          0  Negative\n",
              "598  ICU200608    1  173  74   0    0  36.8  0.088   38          1  Positive"
            ],
            "text/html": [
              "\n",
              "  <div id=\"df-3b024b9d-eac8-44b6-b8b9-3ddd0e3928e4\">\n",
              "    <div class=\"colab-df-container\">\n",
              "      <div>\n",
              "<style scoped>\n",
              "    .dataframe tbody tr th:only-of-type {\n",
              "        vertical-align: middle;\n",
              "    }\n",
              "\n",
              "    .dataframe tbody tr th {\n",
              "        vertical-align: top;\n",
              "    }\n",
              "\n",
              "    .dataframe thead th {\n",
              "        text-align: right;\n",
              "    }\n",
              "</style>\n",
              "<table border=\"1\" class=\"dataframe\">\n",
              "  <thead>\n",
              "    <tr style=\"text-align: right;\">\n",
              "      <th></th>\n",
              "      <th>ID</th>\n",
              "      <th>PRG</th>\n",
              "      <th>PL</th>\n",
              "      <th>PR</th>\n",
              "      <th>SK</th>\n",
              "      <th>TS</th>\n",
              "      <th>M11</th>\n",
              "      <th>BD2</th>\n",
              "      <th>Age</th>\n",
              "      <th>Insurance</th>\n",
              "      <th>Sepssis</th>\n",
              "    </tr>\n",
              "  </thead>\n",
              "  <tbody>\n",
              "    <tr>\n",
              "      <th>594</th>\n",
              "      <td>ICU200604</td>\n",
              "      <td>6</td>\n",
              "      <td>123</td>\n",
              "      <td>72</td>\n",
              "      <td>45</td>\n",
              "      <td>230</td>\n",
              "      <td>33.6</td>\n",
              "      <td>0.733</td>\n",
              "      <td>34</td>\n",
              "      <td>0</td>\n",
              "      <td>Negative</td>\n",
              "    </tr>\n",
              "    <tr>\n",
              "      <th>595</th>\n",
              "      <td>ICU200605</td>\n",
              "      <td>0</td>\n",
              "      <td>188</td>\n",
              "      <td>82</td>\n",
              "      <td>14</td>\n",
              "      <td>185</td>\n",
              "      <td>32.0</td>\n",
              "      <td>0.682</td>\n",
              "      <td>22</td>\n",
              "      <td>1</td>\n",
              "      <td>Positive</td>\n",
              "    </tr>\n",
              "    <tr>\n",
              "      <th>596</th>\n",
              "      <td>ICU200606</td>\n",
              "      <td>0</td>\n",
              "      <td>67</td>\n",
              "      <td>76</td>\n",
              "      <td>0</td>\n",
              "      <td>0</td>\n",
              "      <td>45.3</td>\n",
              "      <td>0.194</td>\n",
              "      <td>46</td>\n",
              "      <td>1</td>\n",
              "      <td>Negative</td>\n",
              "    </tr>\n",
              "    <tr>\n",
              "      <th>597</th>\n",
              "      <td>ICU200607</td>\n",
              "      <td>1</td>\n",
              "      <td>89</td>\n",
              "      <td>24</td>\n",
              "      <td>19</td>\n",
              "      <td>25</td>\n",
              "      <td>27.8</td>\n",
              "      <td>0.559</td>\n",
              "      <td>21</td>\n",
              "      <td>0</td>\n",
              "      <td>Negative</td>\n",
              "    </tr>\n",
              "    <tr>\n",
              "      <th>598</th>\n",
              "      <td>ICU200608</td>\n",
              "      <td>1</td>\n",
              "      <td>173</td>\n",
              "      <td>74</td>\n",
              "      <td>0</td>\n",
              "      <td>0</td>\n",
              "      <td>36.8</td>\n",
              "      <td>0.088</td>\n",
              "      <td>38</td>\n",
              "      <td>1</td>\n",
              "      <td>Positive</td>\n",
              "    </tr>\n",
              "  </tbody>\n",
              "</table>\n",
              "</div>\n",
              "      <button class=\"colab-df-convert\" onclick=\"convertToInteractive('df-3b024b9d-eac8-44b6-b8b9-3ddd0e3928e4')\"\n",
              "              title=\"Convert this dataframe to an interactive table.\"\n",
              "              style=\"display:none;\">\n",
              "        \n",
              "  <svg xmlns=\"http://www.w3.org/2000/svg\" height=\"24px\"viewBox=\"0 0 24 24\"\n",
              "       width=\"24px\">\n",
              "    <path d=\"M0 0h24v24H0V0z\" fill=\"none\"/>\n",
              "    <path d=\"M18.56 5.44l.94 2.06.94-2.06 2.06-.94-2.06-.94-.94-2.06-.94 2.06-2.06.94zm-11 1L8.5 8.5l.94-2.06 2.06-.94-2.06-.94L8.5 2.5l-.94 2.06-2.06.94zm10 10l.94 2.06.94-2.06 2.06-.94-2.06-.94-.94-2.06-.94 2.06-2.06.94z\"/><path d=\"M17.41 7.96l-1.37-1.37c-.4-.4-.92-.59-1.43-.59-.52 0-1.04.2-1.43.59L10.3 9.45l-7.72 7.72c-.78.78-.78 2.05 0 2.83L4 21.41c.39.39.9.59 1.41.59.51 0 1.02-.2 1.41-.59l7.78-7.78 2.81-2.81c.8-.78.8-2.07 0-2.86zM5.41 20L4 18.59l7.72-7.72 1.47 1.35L5.41 20z\"/>\n",
              "  </svg>\n",
              "      </button>\n",
              "      \n",
              "  <style>\n",
              "    .colab-df-container {\n",
              "      display:flex;\n",
              "      flex-wrap:wrap;\n",
              "      gap: 12px;\n",
              "    }\n",
              "\n",
              "    .colab-df-convert {\n",
              "      background-color: #E8F0FE;\n",
              "      border: none;\n",
              "      border-radius: 50%;\n",
              "      cursor: pointer;\n",
              "      display: none;\n",
              "      fill: #1967D2;\n",
              "      height: 32px;\n",
              "      padding: 0 0 0 0;\n",
              "      width: 32px;\n",
              "    }\n",
              "\n",
              "    .colab-df-convert:hover {\n",
              "      background-color: #E2EBFA;\n",
              "      box-shadow: 0px 1px 2px rgba(60, 64, 67, 0.3), 0px 1px 3px 1px rgba(60, 64, 67, 0.15);\n",
              "      fill: #174EA6;\n",
              "    }\n",
              "\n",
              "    [theme=dark] .colab-df-convert {\n",
              "      background-color: #3B4455;\n",
              "      fill: #D2E3FC;\n",
              "    }\n",
              "\n",
              "    [theme=dark] .colab-df-convert:hover {\n",
              "      background-color: #434B5C;\n",
              "      box-shadow: 0px 1px 3px 1px rgba(0, 0, 0, 0.15);\n",
              "      filter: drop-shadow(0px 1px 2px rgba(0, 0, 0, 0.3));\n",
              "      fill: #FFFFFF;\n",
              "    }\n",
              "  </style>\n",
              "\n",
              "      <script>\n",
              "        const buttonEl =\n",
              "          document.querySelector('#df-3b024b9d-eac8-44b6-b8b9-3ddd0e3928e4 button.colab-df-convert');\n",
              "        buttonEl.style.display =\n",
              "          google.colab.kernel.accessAllowed ? 'block' : 'none';\n",
              "\n",
              "        async function convertToInteractive(key) {\n",
              "          const element = document.querySelector('#df-3b024b9d-eac8-44b6-b8b9-3ddd0e3928e4');\n",
              "          const dataTable =\n",
              "            await google.colab.kernel.invokeFunction('convertToInteractive',\n",
              "                                                     [key], {});\n",
              "          if (!dataTable) return;\n",
              "\n",
              "          const docLinkHtml = 'Like what you see? Visit the ' +\n",
              "            '<a target=\"_blank\" href=https://colab.research.google.com/notebooks/data_table.ipynb>data table notebook</a>'\n",
              "            + ' to learn more about interactive tables.';\n",
              "          element.innerHTML = '';\n",
              "          dataTable['output_type'] = 'display_data';\n",
              "          await google.colab.output.renderOutput(dataTable, element);\n",
              "          const docLink = document.createElement('div');\n",
              "          docLink.innerHTML = docLinkHtml;\n",
              "          element.appendChild(docLink);\n",
              "        }\n",
              "      </script>\n",
              "    </div>\n",
              "  </div>\n",
              "  "
            ]
          },
          "metadata": {},
          "execution_count": 6
        }
      ]
    },
    {
      "cell_type": "code",
      "source": [
        "sepsis_train_df.info()"
      ],
      "metadata": {
        "colab": {
          "base_uri": "https://localhost:8080/"
        },
        "id": "jxcpJEnYKTZn",
        "outputId": "a5c18161-bfa2-4001-d231-9308df221e99"
      },
      "execution_count": 7,
      "outputs": [
        {
          "output_type": "stream",
          "name": "stdout",
          "text": [
            "<class 'pandas.core.frame.DataFrame'>\n",
            "RangeIndex: 599 entries, 0 to 598\n",
            "Data columns (total 11 columns):\n",
            " #   Column     Non-Null Count  Dtype  \n",
            "---  ------     --------------  -----  \n",
            " 0   ID         599 non-null    object \n",
            " 1   PRG        599 non-null    int64  \n",
            " 2   PL         599 non-null    int64  \n",
            " 3   PR         599 non-null    int64  \n",
            " 4   SK         599 non-null    int64  \n",
            " 5   TS         599 non-null    int64  \n",
            " 6   M11        599 non-null    float64\n",
            " 7   BD2        599 non-null    float64\n",
            " 8   Age        599 non-null    int64  \n",
            " 9   Insurance  599 non-null    int64  \n",
            " 10  Sepssis    599 non-null    object \n",
            "dtypes: float64(2), int64(7), object(2)\n",
            "memory usage: 51.6+ KB\n"
          ]
        }
      ]
    },
    {
      "cell_type": "code",
      "source": [
        "sepsis_train_df.isna().sum()"
      ],
      "metadata": {
        "colab": {
          "base_uri": "https://localhost:8080/"
        },
        "id": "4fJXmKNHM9aX",
        "outputId": "5f738d33-7112-4c29-de4e-bf1f949ad1c4"
      },
      "execution_count": 9,
      "outputs": [
        {
          "output_type": "execute_result",
          "data": {
            "text/plain": [
              "ID           0\n",
              "PRG          0\n",
              "PL           0\n",
              "PR           0\n",
              "SK           0\n",
              "TS           0\n",
              "M11          0\n",
              "BD2          0\n",
              "Age          0\n",
              "Insurance    0\n",
              "Sepssis      0\n",
              "dtype: int64"
            ]
          },
          "metadata": {},
          "execution_count": 9
        }
      ]
    },
    {
      "cell_type": "code",
      "source": [],
      "metadata": {
        "id": "IZfOecUnNL5e"
      },
      "execution_count": null,
      "outputs": []
    }
  ]
}